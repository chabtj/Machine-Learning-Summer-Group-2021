{
 "cells": [
  {
   "cell_type": "code",
   "execution_count": 161,
   "metadata": {
    "id": "K1Oq7GQpDyfk"
   },
   "outputs": [],
   "source": [
    "import numpy as np\n",
    "import time"
   ]
  },
  {
   "cell_type": "markdown",
   "metadata": {
    "id": "aYKL_KnCD5qj"
   },
   "source": [
    "# Instructions:\n",
    "1. Only edit YOUR CODE HERE\n",
    "2. Each question is of 5 Marks total (4.1 and 4.2 are 5 marks each) for a total of 35 marks\n",
    "3. Marks are given for Clarity, Conciseness and accuracy of your code"
   ]
  },
  {
   "cell_type": "markdown",
   "metadata": {
    "id": "Pi3b6wsBFZQF"
   },
   "source": [
    "## 1. Array concatenate\n",
    "Many a time, we are required to combine different arrays. So, instead of typing each of their elements manually, you can use array concatenation to handle such tasks easily.\n",
    "\n",
    "Given 2 1D array and axis ax, write a function that does the following:\n",
    "1. Row wise concatenation\n",
    "\n",
    "\n",
    "Eg:\n",
    "```python\n",
    "arr1 = np.array([1, 2, 3])\n",
    "arr2 = np.array([21,23,24])\n",
    "```\n",
    "```\n",
    "                                \n",
    "concatenate_matrix(arr1, arr2, 0) -> \n",
    "                                [1, 2, 3,21,24,23]\n",
    "```"
   ]
  },
  {
   "cell_type": "code",
   "execution_count": 162,
   "metadata": {
    "id": "HB5jC7h3Gglq"
   },
   "outputs": [],
   "source": [
    "def concatenate_matrix(arr1, arr2, ax):\n",
    "    \"\"\"\n",
    "    Input:\n",
    "        arr1: Numpy array of 1 dimension\n",
    "        arr2: Numpy array of 1 dimension\n",
    "        ax: int, axis\n",
    "    Output:\n",
    "        concatenated: concatenated result\n",
    "    \"\"\"\n",
    "    # Uncomment the following and write your code\n",
    "    concatenated = np.concatenate([arr1,arr2],axis=ax)\n",
    "    \n",
    "    return concatenated"
   ]
  },
  {
   "cell_type": "markdown",
   "metadata": {
    "id": "RBpIUPEQIje5"
   },
   "source": [
    "## 2. Shuffle\n",
    "Given a numpy array of arbitrary dimensions ($\\ge1$), shuffle its rows randomly \n",
    "\n",
    "Eg:\n",
    "```\n",
    "arr = [[1, 2, 3],\n",
    "       [4, 5, 6],\n",
    "       [7, 8, 9]]\n",
    "```\n",
    "then,\n",
    "\n",
    "```\n",
    "shuf(arr) -> [[7, 8, 9],\n",
    "              [1, 2, 3],\n",
    "              [4, 5, 6]]\n",
    "```"
   ]
  },
  {
   "cell_type": "code",
   "execution_count": 168,
   "metadata": {
    "id": "0GVMkDqIKkLf"
   },
   "outputs": [],
   "source": [
    "def shuf(arr):\n",
    "    \"\"\"\n",
    "    Input:\n",
    "        arr: Numpy array of arbitrary number of dimensions\n",
    "    Output:\n",
    "        shuffled_arr: numpy array of same shape as arr but with rows shuffled\n",
    "    \"\"\"\n",
    "\n",
    "    ### Write Code here\n",
    "    shuffled_arr=arr\n",
    "    np.random.shuffle(arr)\n",
    "    return shuffled_arr"
   ]
  },
  {
   "cell_type": "markdown",
   "metadata": {
    "id": "LY5CNZrLShfJ"
   },
   "source": [
    "### 3. Match\n",
    "\n",
    "Get the indices corresponding to the matching elements of array a and array b\n",
    "\n",
    "Eg:\n",
    "```python\n",
    "a = [1, 2, 3, 4, 5, 6, 7, 8, 9]\n",
    "b = [0, 2, 4, 8, 7, 6, 7, 9, 8]\n",
    "```\n",
    "\n",
    "Then,\n",
    "```\n",
    "match(a, b) -> [1, 5, 6]\n",
    "```"
   ]
  },
  {
   "cell_type": "code",
   "execution_count": 170,
   "metadata": {
    "id": "G8gUM8xsTKC_"
   },
   "outputs": [],
   "source": [
    "def match(a, b):\n",
    "    \"\"\"\n",
    "    Inputs:\n",
    "        a: Numpy array of one dimension\n",
    "        b: Numpy array of one dimension\n",
    "    Output:\n",
    "        matched_idx: List containing indices where both arrays have same elements\n",
    "    \"\"\"\n",
    "    ### Write Code he\n",
    "    matched_idx=np.arange(len(a))[a==b]\n",
    "\n",
    "    return matched_idx"
   ]
  },
  {
   "cell_type": "markdown",
   "metadata": {
    "id": "1Iuj8NqMUoCO"
   },
   "source": [
    "### 4.1 Minor of a matrix\n",
    "\n",
    "Given a numpy array of shape `(n, n)` and an index i, find the minor of element at row 0, column i of the matrix\n",
    "\n",
    "Eg:\n",
    "```python\n",
    "mat = [[1, 2, 3],\n",
    "       [4, 5, 6],\n",
    "       [7, 8, 9]]\n",
    "```\n",
    "\n",
    "Then,\n",
    "```\n",
    "minor(mat, 1) -> [[4, 6],\n",
    "                  [7, 9]]\n",
    "```"
   ]
  },
  {
   "cell_type": "code",
   "execution_count": 172,
   "metadata": {
    "id": "JMIYjpC1VWIU"
   },
   "outputs": [],
   "source": [
    "def minor(mat, i):\n",
    "    \"\"\"\n",
    "    Inputs:\n",
    "        mat: A numpy array of shape (n, n)\n",
    "        i: int, Column of which minor is to be found\n",
    "    Outputs:\n",
    "        mat_minor: A numpy array of shape (n - 1, n - 1) containing minor of mat\n",
    "    \"\"\"\n",
    "    ### write code here\n",
    "    c= mat.copy()\n",
    "    c_r = np.delete(c,0,axis=0) # deletes i-th row\n",
    "    minor_mat= np.delete(c_r,(i),axis=1) #deletes j-th column\n",
    "    return minor_mat "
   ]
  },
  {
   "cell_type": "markdown",
   "metadata": {
    "id": "9oX_EJquXttt"
   },
   "source": [
    "### 4.2 Determinant of a matrix\n",
    "Given a numpy array of shape (n, n) find its determinant"
   ]
  },
  {
   "cell_type": "code",
   "execution_count": 174,
   "metadata": {
    "id": "SRvikvhQX4h9"
   },
   "outputs": [],
   "source": [
    "def det(mat):\n",
    "    \"\"\"\n",
    "    Inputs: \n",
    "        mat: A numpy array of shape (n, n)\n",
    "    Outputs:\n",
    "        det_mat: Determinant of mat\n",
    "    \"\"\"\n",
    "    ### Write code here\n",
    "    det_mat=np.linalg.det(mat)\n",
    "    return det_mat"
   ]
  },
  {
   "cell_type": "markdown",
   "metadata": {
    "id": "irZMP8_4T5yv"
   },
   "source": [
    "### 5. Inverse of Array\n",
    "Given a numpy array with shape `(n, n)` find its inverse"
   ]
  },
  {
   "cell_type": "code",
   "execution_count": 178,
   "metadata": {
    "id": "VB2qPuFXUKuV"
   },
   "outputs": [],
   "source": [
    "def inv(mat):\n",
    "    \"\"\"\n",
    "    Inputs:\n",
    "        mat: Numpy array of shape (n, n)\n",
    "    Outputs:\n",
    "        mat_inv: Inverse of mat\n",
    "    \"\"\"\n",
    "    ### Write Code here\n",
    "    mat_inv=np.linalg.inv(mat)\n",
    "    return mat_inv"
   ]
  },
  {
   "cell_type": "markdown",
   "metadata": {
    "id": "U2Vn00V9Ugdi"
   },
   "source": [
    "### 6. Rank Array\n",
    "Rank the items in a multidimensional array.\n",
    "the rank of an item is its index in the sorted list of all items in arr (starting from 0)\n",
    "\n",
    "Eg:\n",
    "```\n",
    "mat = [[9, 11, 1],\n",
    "       [4, 2, 0],\n",
    "       [5, 7, 12]]\n",
    "```\n",
    "Then,\n",
    "```\n",
    "rank(mat) -> [[6, 7, 1],\n",
    "              [3, 2, 0],\n",
    "              [4, 5, 8]]\n",
    "```"
   ]
  },
  {
   "cell_type": "code",
   "execution_count": 179,
   "metadata": {
    "id": "PCITYkusY7UO"
   },
   "outputs": [],
   "source": [
    "def rank(arr):\n",
    "    \"\"\"\n",
    "    Inputs:\n",
    "        arr: n dimensional Numpy array\n",
    "    Outputs:\n",
    "        ranked_arr: Numpy array containing ranks, with same shape as arr\n",
    "    \"\"\"\n",
    "    ### Write Code here\n",
    "    ranked_arr=arr.copy()\n",
    "    x=arr.ravel().copy()\n",
    "    rows=np.size(arr,0)\n",
    "    columns=np.size(arr,1)\n",
    "    x.sort()\n",
    "    for i in range(0,rows):\n",
    "        for j in range(0,columns):\n",
    "            y=np.searchsorted(x,arr[i][j])\n",
    "            ranked_arr[i][j]=y\n",
    "    return ranked_arr"
   ]
  },
  {
   "cell_type": "markdown",
   "metadata": {
    "id": "T6k56gonzftx"
   },
   "source": [
    "# 7. Bonus - Vectorization \n",
    "Often times while solving Machine Learning problems we need to perform mathematical operations over large sets of data. The first thing that comes to mind is to loop through the data using a for-loop. But this can be quite inefficient and time taking as it is not the optimal way to use the computer's resources. This is where the concept of vectorization kicks in. It can efficiently use the CPU's resources to carry out multiple tasks at a time and reduce the execution time of operations involving large amounts of data. \n",
    "\n",
    "Fortunately NumPy makes it easy for us to vectorize our data in very few lines of code and takes up the burden of executing the code as fast as possible.\n",
    "\n",
    "It is recommended to perform all the mathematical operations required for machine learning using the built in functions offered by standard libraries such as NumPy as they will be the most optimized implementations and can save time in execution.\n",
    "\n",
    "Now let's go through an example :\n",
    "\n",
    "Say for an assignment you have to multiply (dot product) two enormous sets of values (order of 10^8) ; all of them within in the range (0, 1). Let's see how we can make this process efficient using vectorization . "
   ]
  },
  {
   "cell_type": "code",
   "execution_count": 134,
   "metadata": {
    "id": "fsRqqVSE3xGh"
   },
   "outputs": [
    {
     "output_type": "stream",
     "name": "stdout",
     "text": [
      "50001772.12503426\n"
     ]
    },
    {
     "output_type": "error",
     "ename": "KeyboardInterrupt",
     "evalue": "",
     "traceback": [
      "\u001b[0;31m---------------------------------------------------------------------------\u001b[0m",
      "\u001b[0;31mKeyboardInterrupt\u001b[0m                         Traceback (most recent call last)",
      "\u001b[0;32m<ipython-input-134-4e4ea4bdc151>\u001b[0m in \u001b[0;36m<module>\u001b[0;34m\u001b[0m\n\u001b[1;32m     19\u001b[0m \u001b[0mt3\u001b[0m \u001b[0;34m=\u001b[0m \u001b[0mtime\u001b[0m\u001b[0;34m.\u001b[0m\u001b[0mtime\u001b[0m\u001b[0;34m(\u001b[0m\u001b[0;34m)\u001b[0m\u001b[0;34m\u001b[0m\u001b[0;34m\u001b[0m\u001b[0m\n\u001b[1;32m     20\u001b[0m \u001b[0;32mfor\u001b[0m \u001b[0mi\u001b[0m \u001b[0;32min\u001b[0m \u001b[0mrange\u001b[0m\u001b[0;34m(\u001b[0m\u001b[0;36m200000000\u001b[0m\u001b[0;34m)\u001b[0m\u001b[0;34m:\u001b[0m\u001b[0;34m\u001b[0m\u001b[0;34m\u001b[0m\u001b[0m\n\u001b[0;32m---> 21\u001b[0;31m     \u001b[0mc\u001b[0m \u001b[0;34m+=\u001b[0m \u001b[0ma\u001b[0m\u001b[0;34m[\u001b[0m\u001b[0mi\u001b[0m\u001b[0;34m]\u001b[0m \u001b[0;34m*\u001b[0m \u001b[0mb\u001b[0m\u001b[0;34m[\u001b[0m\u001b[0mi\u001b[0m\u001b[0;34m]\u001b[0m\u001b[0;34m\u001b[0m\u001b[0;34m\u001b[0m\u001b[0m\n\u001b[0m\u001b[1;32m     22\u001b[0m \u001b[0mt4\u001b[0m \u001b[0;34m=\u001b[0m \u001b[0mtime\u001b[0m\u001b[0;34m.\u001b[0m\u001b[0mtime\u001b[0m\u001b[0;34m(\u001b[0m\u001b[0;34m)\u001b[0m\u001b[0;34m\u001b[0m\u001b[0;34m\u001b[0m\u001b[0m\n\u001b[1;32m     23\u001b[0m \u001b[0mprint\u001b[0m\u001b[0;34m(\u001b[0m\u001b[0mc\u001b[0m\u001b[0;34m)\u001b[0m\u001b[0;34m\u001b[0m\u001b[0;34m\u001b[0m\u001b[0m\n",
      "\u001b[0;31mKeyboardInterrupt\u001b[0m: "
     ]
    }
   ],
   "source": [
    "# generate two large sized arrays with random values\n",
    "a = np.random.rand(200000000)\n",
    "b = np.random.rand(200000000) \n",
    "\n",
    "#Using Vectorization\n",
    "\n",
    "#time.time() returns the current time in seconds\n",
    "t1 = time.time()\n",
    "\n",
    "# the dot product functionality of NumPy\n",
    "c = np.dot(a, b) \n",
    "\n",
    "t2 = time.time()\n",
    "print(c)\n",
    "\n",
    "c = 0\n",
    "\n",
    "#Using Loops\n",
    "t3 = time.time()\n",
    "for i in range(200000000):\n",
    "    c += a[i] * b[i]\n",
    "t4 = time.time()\n",
    "print(c)\n",
    "\n",
    "print('Using NumPy dot:',(t2-t1),'\\t','Using loop:',(t4-t3))\n"
   ]
  },
  {
   "cell_type": "markdown",
   "metadata": {
    "id": "6Oafd-rT9J5X"
   },
   "source": [
    "Run the code and see the results yourself. Astonishing isn't it?! \n",
    "\n",
    "By just changing our methodology here a bit we cut down the processing time enormously!!\n",
    "\n",
    "Hope this tiny example gives you some insight into the diverse applications and the power of NumPy arrays . "
   ]
  }
 ],
 "metadata": {
  "colab": {
   "collapsed_sections": [],
   "name": "1_Numpy_Assignment.ipynb",
   "private_outputs": true,
   "provenance": []
  },
  "kernelspec": {
   "name": "python3",
   "display_name": "Python 3.8.5 64-bit ('base': conda)"
  },
  "language_info": {
   "codemirror_mode": {
    "name": "ipython",
    "version": 3
   },
   "file_extension": ".py",
   "mimetype": "text/x-python",
   "name": "python",
   "nbconvert_exporter": "python",
   "pygments_lexer": "ipython3",
   "version": "3.8.5"
  },
  "interpreter": {
   "hash": "18702c8885d14a3179c365912d3bdfff4465c6aa9b23e3c03891c090c6055c12"
  }
 },
 "nbformat": 4,
 "nbformat_minor": 1
}